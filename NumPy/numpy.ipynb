{
 "cells": [
  {
   "cell_type": "code",
   "execution_count": 57,
   "metadata": {},
   "outputs": [
    {
     "name": "stdout",
     "output_type": "stream",
     "text": [
      "2.0.0\n"
     ]
    }
   ],
   "source": [
    "# Check The Version\n",
    "import numpy as np\n",
    "\n",
    "print(np.__version__)"
   ]
  },
  {
   "cell_type": "code",
   "execution_count": 58,
   "metadata": {},
   "outputs": [
    {
     "name": "stdout",
     "output_type": "stream",
     "text": [
      "<class 'list'> [1, 2, 3, 4]\n",
      "<class 'numpy.ndarray'> [1 2 3 4]\n"
     ]
    }
   ],
   "source": [
    "# List To Array\n",
    "testList = [1, 2, 3, 4]\n",
    "print(type(testList), testList)\n",
    "\n",
    "listArray = np.array(testList)\n",
    "print(type(listArray), listArray)"
   ]
  },
  {
   "cell_type": "code",
   "execution_count": 59,
   "metadata": {},
   "outputs": [
    {
     "name": "stdout",
     "output_type": "stream",
     "text": [
      "<class 'tuple'> (1, 2, 3, 4, 5)\n",
      "<class 'numpy.ndarray'> [1 2 3 4 5]\n"
     ]
    }
   ],
   "source": [
    "# Tuple To Array\n",
    "testTuple = (1, 2, 3, 4, 5)\n",
    "print(type(testTuple), testTuple)\n",
    "\n",
    "tupleArray = np.array(testTuple)\n",
    "print(type(tupleArray), tupleArray)"
   ]
  },
  {
   "cell_type": "code",
   "execution_count": 60,
   "metadata": {},
   "outputs": [
    {
     "name": "stdout",
     "output_type": "stream",
     "text": [
      "<class 'set'> {1, 2, 3, 4, 5}\n",
      "<class 'numpy.ndarray'> {1, 2, 3, 4, 5}\n"
     ]
    }
   ],
   "source": [
    "# Set To Array\n",
    "testSet = {1, 2, 3, 4, 5, 3, 4}\n",
    "print(type(testSet), testSet)\n",
    "\n",
    "setArray = np.array(testSet)\n",
    "print(type(setArray), setArray)"
   ]
  },
  {
   "cell_type": "code",
   "execution_count": 61,
   "metadata": {},
   "outputs": [
    {
     "name": "stdout",
     "output_type": "stream",
     "text": [
      "0 28\n"
     ]
    }
   ],
   "source": [
    "# 0-D Array\n",
    "array = np.array(28)\n",
    "print(array.ndim, array)"
   ]
  },
  {
   "cell_type": "code",
   "execution_count": 62,
   "metadata": {},
   "outputs": [
    {
     "name": "stdout",
     "output_type": "stream",
     "text": [
      "1 [1 2 3 4 5]\n"
     ]
    }
   ],
   "source": [
    "# 1-D Array\n",
    "array = np.array([1, 2, 3, 4, 5])\n",
    "print(array.ndim, array)"
   ]
  },
  {
   "cell_type": "code",
   "execution_count": 63,
   "metadata": {},
   "outputs": [
    {
     "name": "stdout",
     "output_type": "stream",
     "text": [
      "2 [[ 1  2  3  4  5]\n",
      " [ 6  7  8  9 10]]\n"
     ]
    }
   ],
   "source": [
    "# 2-D Array\n",
    "array = np.array([[1, 2, 3, 4, 5], [6, 7, 8, 9, 10]])\n",
    "print(array.ndim, array)"
   ]
  },
  {
   "cell_type": "code",
   "execution_count": 64,
   "metadata": {},
   "outputs": [
    {
     "name": "stdout",
     "output_type": "stream",
     "text": [
      "3 [[[ 1  2  3  4  5]\n",
      "  [ 6  7  8  9 10]]\n",
      "\n",
      " [[ 0  0  0  0  0]\n",
      "  [ 1  1  1  1  1]]]\n"
     ]
    }
   ],
   "source": [
    "# 3-D Array\n",
    "# An array that has 2-D arrays (matrices) as its elements is called 3-D array.\n",
    "array = np.array(\n",
    "    [[[1, 2, 3, 4, 5], [6, 7, 8, 9, 10]], [[0, 0, 0, 0, 0], [1, 1, 1, 1, 1]]]\n",
    ")\n",
    "print(array.ndim, array)"
   ]
  },
  {
   "cell_type": "code",
   "execution_count": 65,
   "metadata": {},
   "outputs": [
    {
     "name": "stdout",
     "output_type": "stream",
     "text": [
      "4\n",
      "8\n",
      "2\n"
     ]
    }
   ],
   "source": [
    "# Access Array\n",
    "array = np.array([1, 2, 3, 4])\n",
    "print(array[3])\n",
    "\n",
    "array = np.array([[1, 2, 3, 4], [5, 6, 7, 8]])\n",
    "print(array[1, 3])\n",
    "\n",
    "array = np.array([[[1, 2, 3, 4], [4, 3, 2, 1]], [[1, 0, 1, 0], [1, 1, 1, 1]]])\n",
    "print(array[0, 0, -3])"
   ]
  },
  {
   "cell_type": "code",
   "execution_count": 66,
   "metadata": {},
   "outputs": [
    {
     "name": "stdout",
     "output_type": "stream",
     "text": [
      "[1 2 3 4 5 6]\n"
     ]
    }
   ],
   "source": [
    "# Array Slicing\n",
    "array = np.array([1, 2, 3, 4, 5, 6, 7, 8])\n",
    "print(array[:-2])"
   ]
  },
  {
   "cell_type": "code",
   "execution_count": 67,
   "metadata": {},
   "outputs": [
    {
     "name": "stdout",
     "output_type": "stream",
     "text": [
      "int64\n",
      "<U3\n"
     ]
    }
   ],
   "source": [
    "# Data Types\n",
    "arrayInt = np.array([1, 2, 3, 4])\n",
    "print(arrayInt.dtype)\n",
    "\n",
    "arrayString = np.array([\"Emn\", \"Sad\", \"Ank\"])\n",
    "print(arrayString.dtype)"
   ]
  },
  {
   "cell_type": "code",
   "execution_count": 68,
   "metadata": {},
   "outputs": [
    {
     "name": "stdout",
     "output_type": "stream",
     "text": [
      "[10  2  3  4  5]\n",
      "[1 2 3 4 5]\n"
     ]
    }
   ],
   "source": [
    "# Copy Array\n",
    "array = np.array([1, 2, 3, 4, 5])\n",
    "X = array.copy()\n",
    "array[0] = 10\n",
    "\n",
    "print(array)\n",
    "print(X)"
   ]
  },
  {
   "cell_type": "code",
   "execution_count": 69,
   "metadata": {},
   "outputs": [
    {
     "name": "stdout",
     "output_type": "stream",
     "text": [
      "[10  2  3  4  5]\n",
      "[10  2  3  4  5]\n"
     ]
    }
   ],
   "source": [
    "# View Array\n",
    "array = np.array([1, 2, 3, 4, 5])\n",
    "X = array.view()\n",
    "array[0] = 10\n",
    "\n",
    "print(array)\n",
    "print(X)"
   ]
  },
  {
   "cell_type": "code",
   "execution_count": 70,
   "metadata": {},
   "outputs": [
    {
     "name": "stdout",
     "output_type": "stream",
     "text": [
      "(2, 5)\n"
     ]
    }
   ],
   "source": [
    "# Array Shape aka Order of Matrix\n",
    "array = np.array([[1, 2, 3, 4, 5], [6, 7, 8, 9, 10]])\n",
    "print(array.shape)"
   ]
  },
  {
   "cell_type": "code",
   "execution_count": 71,
   "metadata": {},
   "outputs": [
    {
     "name": "stdout",
     "output_type": "stream",
     "text": [
      "[[1 2 3]\n",
      " [4 5 6]\n",
      " [7 8 9]]\n"
     ]
    }
   ],
   "source": [
    "# Array Re-Shape\n",
    "# 1-D To 2-D\n",
    "array = np.array([1, 2, 3, 4, 5, 6, 7, 8, 9])\n",
    "\n",
    "newArray = array.reshape(3, 3)\n",
    "print(newArray)"
   ]
  },
  {
   "cell_type": "code",
   "execution_count": 72,
   "metadata": {},
   "outputs": [
    {
     "name": "stdout",
     "output_type": "stream",
     "text": [
      "[[[1 2]\n",
      "  [3 4]]\n",
      "\n",
      " [[5 6]\n",
      "  [7 8]]]\n"
     ]
    }
   ],
   "source": [
    "# Array Re-Shape\n",
    "# 1-D To 3-D\n",
    "array = np.array([1, 2, 3, 4, 5, 6, 7, 8])\n",
    "\n",
    "newArray = array.reshape(2, 2, 2)\n",
    "print(newArray)"
   ]
  },
  {
   "cell_type": "code",
   "execution_count": 73,
   "metadata": {},
   "outputs": [
    {
     "name": "stdout",
     "output_type": "stream",
     "text": [
      "[[1 2 3]\n",
      " [4 5 6]]\n",
      "[1 2 3 4 5 6]\n"
     ]
    }
   ],
   "source": [
    "# nD Array To 1-D Array\n",
    "array = np.array([[1, 2, 3], [4, 5, 6]])\n",
    "print(array)\n",
    "\n",
    "newArray = array.reshape(-1)\n",
    "print(newArray)"
   ]
  },
  {
   "cell_type": "code",
   "execution_count": 74,
   "metadata": {},
   "outputs": [
    {
     "name": "stdout",
     "output_type": "stream",
     "text": [
      "1\n",
      "2\n",
      "3\n",
      "4\n",
      "5\n",
      "[1 2 3 4]\n",
      "[5 6 7 8]\n",
      "12345678"
     ]
    }
   ],
   "source": [
    "# Iterating Array\n",
    "\n",
    "# 1-D Array\n",
    "array = np.array([1, 2, 3, 4, 5])\n",
    "for x in array:\n",
    "    print(x)\n",
    "\n",
    "# 2-D Array\n",
    "array = np.array([[1, 2, 3, 4], [5, 6, 7, 8]])\n",
    "for x in array:\n",
    "    print(x)\n",
    "\n",
    "# Another Approach\n",
    "for x in array:\n",
    "    for i in x:\n",
    "        print(i, end=\"\")"
   ]
  },
  {
   "cell_type": "code",
   "execution_count": 75,
   "metadata": {},
   "outputs": [
    {
     "name": "stdout",
     "output_type": "stream",
     "text": [
      "12345678"
     ]
    }
   ],
   "source": [
    "# Iteration Using nditer()\n",
    "array = np.array([[1, 2, 3, 4], [5, 6, 7, 8]])\n",
    "for x in np.nditer(array):\n",
    "    print(x, end=\"\")"
   ]
  },
  {
   "cell_type": "code",
   "execution_count": 76,
   "metadata": {},
   "outputs": [
    {
     "name": "stdout",
     "output_type": "stream",
     "text": [
      "[1 2 3 4 5 6]\n",
      "[[1 2]\n",
      " [3 4]\n",
      " [5 6]\n",
      " [7 8]]\n",
      "[[1 2 5 6]\n",
      " [3 4 7 8]]\n"
     ]
    }
   ],
   "source": [
    "# Array Join\n",
    "\n",
    "# 1-D Array\n",
    "A1 = np.array([1, 2, 3])\n",
    "A2 = np.array([4, 5, 6])\n",
    "newArray = np.concatenate((A1, A2))\n",
    "print(newArray)\n",
    "\n",
    "# 2-D Array Along Coloums\n",
    "A1 = np.array([[1, 2], [3, 4]])\n",
    "A2 = np.array([[5, 6], [7, 8]])\n",
    "newArray = np.concatenate((A1, A2))\n",
    "print(newArray)\n",
    "\n",
    "# 2-D Array Along Rows\n",
    "A1 = np.array([[1, 2], [3, 4]])\n",
    "A2 = np.array([[5, 6], [7, 8]])\n",
    "newArray = np.concatenate((A1, A2), axis=1)\n",
    "print(newArray)"
   ]
  },
  {
   "cell_type": "code",
   "execution_count": 77,
   "metadata": {},
   "outputs": [
    {
     "name": "stdout",
     "output_type": "stream",
     "text": [
      "[array([1, 2, 3]), array([4, 5, 6]), array([7, 8, 9])]\n",
      "<class 'list'>\n",
      "[1 2 3]\n",
      "[4 5 6]\n",
      "[7 8 9]\n"
     ]
    }
   ],
   "source": [
    "# 1-D Array Split\n",
    "array = np.array([1, 2, 3, 4, 5, 6, 7, 8, 9])\n",
    "newArray = np.array_split(array, 3)\n",
    "print(newArray)\n",
    "print(type(newArray))\n",
    "print(newArray[0])\n",
    "print(newArray[1])\n",
    "print(newArray[2])"
   ]
  },
  {
   "cell_type": "code",
   "execution_count": 78,
   "metadata": {},
   "outputs": [
    {
     "name": "stdout",
     "output_type": "stream",
     "text": [
      "[array([[1, 2],\n",
      "       [3, 4]]), array([[5, 6],\n",
      "       [7, 8]]), array([[ 9, 10],\n",
      "       [11, 12]])]\n"
     ]
    }
   ],
   "source": [
    "# 2-D Array Split\n",
    "array = np.array([[1, 2], [3, 4], [5, 6], [7, 8], [9, 10], [11, 12]])\n",
    "newArray = np.array_split(array, 3)\n",
    "print(newArray)"
   ]
  },
  {
   "cell_type": "code",
   "execution_count": 79,
   "metadata": {},
   "outputs": [
    {
     "name": "stdout",
     "output_type": "stream",
     "text": [
      "(array([ 0,  9, 11]),)\n"
     ]
    }
   ],
   "source": [
    "# Searching Array\n",
    "array = np.array([1, 2, 3, 4, 5, 6, 7, 8, 9, 1, 2, 1, 5])\n",
    "x = np.where(array == 1)\n",
    "print(x)"
   ]
  },
  {
   "cell_type": "code",
   "execution_count": 80,
   "metadata": {},
   "outputs": [
    {
     "name": "stdout",
     "output_type": "stream",
     "text": [
      "[1 2 2 2 5 5 7 7 8 8]\n",
      "['apple' 'banana' 'shadow' 'yellow']\n",
      "[[2 5 7]\n",
      " [0 1 4]]\n"
     ]
    }
   ],
   "source": [
    "# Sorting Array\n",
    "\n",
    "# 1-D Integer\n",
    "array = np.array([5, 7, 2, 8, 2, 5, 7, 8, 1, 2])\n",
    "newArray = np.sort(array)\n",
    "print(newArray)\n",
    "\n",
    "# 1-D String\n",
    "array = np.array([\"banana\", \"apple\", \"yellow\", \"shadow\"])\n",
    "print(np.sort(array))\n",
    "\n",
    "# 2-D Integer\n",
    "array = np.array([[5, 2, 7], [0, 4, 1]])\n",
    "print(np.sort(array))"
   ]
  }
 ],
 "metadata": {
  "kernelspec": {
   "display_name": "Python 3",
   "language": "python",
   "name": "python3"
  },
  "language_info": {
   "codemirror_mode": {
    "name": "ipython",
    "version": 3
   },
   "file_extension": ".py",
   "mimetype": "text/x-python",
   "name": "python",
   "nbconvert_exporter": "python",
   "pygments_lexer": "ipython3",
   "version": "3.12.0"
  }
 },
 "nbformat": 4,
 "nbformat_minor": 2
}
